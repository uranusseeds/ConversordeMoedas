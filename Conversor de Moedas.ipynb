{
 "cells": [
  {
   "cell_type": "code",
   "execution_count": 47,
   "metadata": {},
   "outputs": [],
   "source": [
    "import xmltodict\n",
    "\n",
    "def nomes_moedas():\n",
    "    with open(\"moedas.xml\", \"rb\") as arquivos_moedas:\n",
    "        dic_moedas = xmltodict.parse(arquivos_moedas)\n",
    "        \n",
    "    moedas = dic_moedas[\"xml\"]\n",
    "    return moedas"
   ]
  },
  {
   "cell_type": "code",
   "execution_count": 48,
   "metadata": {},
   "outputs": [],
   "source": [
    "def conversoes_disponiveis():\n",
    "    with open(\"conversoes.xml\", \"rb\") as arquivos_conversoes:\n",
    "        dic_conversoes = xmltodict.parse(arquivos_conversoes)\n",
    "\n",
    "    conversoes = dic_conversoes[\"xml\"]\n",
    "    dic_conversoes_disponiveis = {}\n",
    "    for par_conversao in conversoes:\n",
    "        moeda_origem, moeda_destino = par_conversao.split(\"-\")\n",
    "        if moeda_origem in dic_conversoes_disponiveis:\n",
    "            dic_conversoes_disponiveis[moeda_origem].append(moeda_destino)\n",
    "        else:\n",
    "            dic_conversoes_disponiveis[moeda_origem] = [moeda_destino]\n",
    "    return dic_conversoes_disponiveis\n",
    "            "
   ]
  },
  {
   "cell_type": "code",
   "execution_count": 49,
   "metadata": {},
   "outputs": [],
   "source": [
    "import requests\n",
    "\n",
    "def pegar_cotacao_moeda(moeda_origem, moeda_destino):\n",
    "    link = f\"https://economia.awesomeapi.com.br/last/{moeda_origem}-{moeda_destino}\"\n",
    "    requisicao = requests.get(link)\n",
    "\n",
    "    cotacao = requisicao.json()[f\"{moeda_origem}{moeda_destino}\"][\"bid\"]\n",
    "    return cotacao\n"
   ]
  },
  {
   "cell_type": "code",
   "execution_count": 50,
   "metadata": {},
   "outputs": [],
   "source": [
    "import customtkinter\n",
    "\n",
    "#criar e configurar a janela\n",
    "customtkinter.set_appearance_mode(\"Dark\")\n",
    "customtkinter.set_default_color_theme(\"dark-blue\")\n",
    "janela = customtkinter.CTk() \n",
    "janela.geometry(\"500x500\") #tamanho da janela\n",
    "\n",
    "dic_conversoes_disponiveis = conversoes_disponiveis()\n",
    "\n",
    "#criar botoes e titulos\n",
    "titulo = customtkinter.CTkLabel(janela, text=\"Conversor de Moedas\", font=(\"Times New Roman\", 20))\n",
    "texto_moeda_origem = customtkinter.CTkLabel(janela, text=\"Selecione a moeda de origem: \")\n",
    "texto_moeda_destino = customtkinter.CTkLabel(janela, text=\"Selecione a moeda de destino: \")\n",
    "\n",
    "def carregar_moedas_destino(moeda_selecionada):\n",
    "    lista_moedas_destino = dic_conversoes_disponiveis[moeda_selecionada]\n",
    "    campo_moeda_destino.configure(values=lista_moedas_destino)\n",
    "    \n",
    "campo_moeda_origem = customtkinter.CTkOptionMenu(janela, values=list(dic_conversoes_disponiveis.keys()), \n",
    "                                                 command=carregar_moedas_destino)\n",
    "campo_moeda_destino = customtkinter.CTkOptionMenu(janela, values=[\"Selecione uma moeda de origem: \"])\n",
    "\n",
    "def converter_moeda():\n",
    "    moeda_origem = campo_moeda_origem.get()\n",
    "    moeda_destino = campo_moeda_destino.get()\n",
    "    if moeda_origem and moeda_destino:\n",
    "        cotacao = pegar_cotacao_moeda(moeda_origem, moeda_destino)\n",
    "        texto_cotacao_moeda.configure(text=f\"1 {moeda_origem} = {cotacao} {moeda_destino}\")\n",
    "\n",
    "botao_converter = customtkinter.CTkButton(janela, text=\"Converter\", command=converter_moeda)\n",
    "\n",
    "lista_moedas = customtkinter.CTkScrollableFrame(janela)\n",
    "\n",
    "texto_cotacao_moeda = customtkinter.CTkLabel(janela, text=\" \")\n",
    "\n",
    "moedas_disponiveis = nomes_moedas()\n",
    "for codigo_moeda in moedas_disponiveis:\n",
    "    nome_moeda = moedas_disponiveis[codigo_moeda]\n",
    "    texto_moeda = customtkinter.CTkLabel(lista_moedas, text=f\"{codigo_moeda}: {nome_moeda}\")\n",
    "    texto_moeda.pack()\n",
    "\n",
    "\n",
    "\n",
    "titulo.pack(padx=10, pady=10)\n",
    "texto_moeda_origem.pack(padx=10, pady=10)\n",
    "campo_moeda_origem.pack(padx=10)\n",
    "texto_moeda_destino.pack(padx=10, pady=10)\n",
    "campo_moeda_destino.pack(padx=10)\n",
    "botao_converter.pack(padx=10, pady=10)\n",
    "texto_cotacao_moeda.pack(padx=10, pady=10)\n",
    "lista_moedas.pack(padx=10, pady=10)\n",
    "\n",
    "#loop da janela\n",
    "janela.mainloop()\n",
    "\n"
   ]
  }
 ],
 "metadata": {
  "kernelspec": {
   "display_name": "base",
   "language": "python",
   "name": "python3"
  },
  "language_info": {
   "codemirror_mode": {
    "name": "ipython",
    "version": 3
   },
   "file_extension": ".py",
   "mimetype": "text/x-python",
   "name": "python",
   "nbconvert_exporter": "python",
   "pygments_lexer": "ipython3",
   "version": "3.11.3"
  }
 },
 "nbformat": 4,
 "nbformat_minor": 2
}
