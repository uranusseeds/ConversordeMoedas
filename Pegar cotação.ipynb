{
 "cells": [
  {
   "cell_type": "code",
   "execution_count": 7,
   "metadata": {},
   "outputs": [
    {
     "name": "stdout",
     "output_type": "stream",
     "text": [
      "5.1536\n"
     ]
    }
   ],
   "source": [
    "import requests\n",
    "\n",
    "def pegar_cotacao_moeda(moeda_origem, moeda_destino):\n",
    "    link = f\"https://economia.awesomeapi.com.br/last/{moeda_origem}-{moeda_destino}\"\n",
    "    requisicao = requests.get(link)\n",
    "\n",
    "    cotacao = requisicao.json()[f\"{moeda_origem}{moeda_destino}\"][\"bid\"]\n",
    "    return cotacao\n"
   ]
  }
 ],
 "metadata": {
  "kernelspec": {
   "display_name": "base",
   "language": "python",
   "name": "python3"
  },
  "language_info": {
   "codemirror_mode": {
    "name": "ipython",
    "version": 3
   },
   "file_extension": ".py",
   "mimetype": "text/x-python",
   "name": "python",
   "nbconvert_exporter": "python",
   "pygments_lexer": "ipython3",
   "version": "3.11.3"
  }
 },
 "nbformat": 4,
 "nbformat_minor": 2
}
